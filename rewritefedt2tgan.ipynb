{
 "cells": [
  {
   "cell_type": "code",
   "execution_count": null,
   "metadata": {},
   "outputs": [],
   "source": [
    "import itertools\n",
    "import datetime\n",
    "import time\n",
    "import glob\n",
    "import random\n",
    "import sys\n",
    "import os\n",
    "\n",
    "import torch\n",
    "import torch.nn as nn\n",
    "from torch.autograd import Variable\n",
    "from torch.utils.data import DataLoader\n",
    "\n",
    "from tqdm import tqdm\n",
    "import pickle\n",
    "import numpy as np\n",
    "from scipy import signal\n",
    "import matplotlib.pyplot as plt\n",
    "import json as js\n",
    "from scipy.signal import find_peaks"
   ]
  },
  {
   "cell_type": "code",
   "execution_count": null,
   "metadata": {},
   "outputs": [],
   "source": [
    "device = torch.device('cuda:0' if torch.cuda.is_available() else 'cpu')\n",
    "print(f\"Using device: {device}\")\n",
    "\n",
    "if torch.cuda.is_available():\n",
    "    cuda = True\n",
    "    print('Using: ' + str(torch.cuda.get_device_name(device)))\n",
    "else:\n",
    "    cuda = False\n",
    "    print('Using: CPU')\n",
    "\n",
    "Tensor = torch.cuda.FloatTensor if cuda else torch.Tensor"
   ]
  },
  {
   "cell_type": "code",
   "execution_count": null,
   "metadata": {},
   "outputs": [],
   "source": [
    "from t2tganmodel import *\n",
    "from callablefunc import *"
   ]
  },
  {
   "cell_type": "code",
   "execution_count": null,
   "metadata": {},
   "outputs": [],
   "source": [
    "##### Hyperparameters for federated learning #########\n",
    "num_clients = 20\n",
    "num_selected = 6\n",
    "num_rounds = 10\n",
    "epochs = 5\n",
    "batch_size = 32"
   ]
  },
  {
   "cell_type": "code",
   "execution_count": null,
   "metadata": {},
   "outputs": [],
   "source": [
    "def save_params(params, filename):\n",
    "    json = js.dumps(params)\n",
    "    f = open(filename+'/parameters.json','w')\n",
    "    f.write(json)\n",
    "    f.close()"
   ]
  },
  {
   "cell_type": "code",
   "execution_count": null,
   "metadata": {},
   "outputs": [],
   "source": [
    "DATASETPATH = \"dataset/Samples\"\n",
    "\n",
    "def load_data(seq_len=1000, num_clients=20, datasetpath=DATASETPATH):\n",
    "    files = os.listdir(datasetpath)\n",
    "    files = [f for f in files if f.endswith('.csv')]\n",
    "\n",
    "    # sort the files\n",
    "    files.sort(key=lambda f: int(''.join(filter(str.isdigit, f))))\n",
    "    files = [os.path.join(DATASETPATH, f) for f in files]\n",
    "\n",
    "    # load the data and combine them\n",
    "    for i, f in enumerate(files):\n",
    "        # load data\n",
    "        data = np.loadtxt(f, delimiter=\",\")\n",
    "        data = data.T\n",
    "\n",
    "        # get the input and label\n",
    "        x = data[:, 0]\n",
    "        y = data[:, 1]\n",
    "\n",
    "        # reshape to 2D\n",
    "        x = x.reshape(-1, 1)\n",
    "        y = y.reshape(-1, 1)\n",
    "\n",
    "        # combine into a single numpy array\n",
    "        if i == 0:\n",
    "            X = x\n",
    "            Y = y\n",
    "        else:\n",
    "            X = np.concatenate((X, x), axis=0)\n",
    "            Y = np.concatenate((Y, y), axis=0)\n",
    "\n",
    "\n",
    "    X = torch.tensor(X, dtype=torch.float32)\n",
    "    X = X.squeeze()\n",
    "    Y = torch.tensor(Y, dtype=torch.float32)\n",
    "    Y = Y.squeeze()\n",
    "\n",
    "    print(f\"Data type of X: {X.dtype} | Data type of Y: {Y.dtype}\")\n",
    "    print(f\"Size of X: {X.size()} | Size of Y: {Y.size()}\")\n",
    "\n",
    "    # combine into a single dataset\n",
    "    dataset = torch.utils.data.TensorDataset(X, Y)\n",
    "\n",
    "    return dataset"
   ]
  },
  {
   "cell_type": "code",
   "execution_count": null,
   "metadata": {},
   "outputs": [],
   "source": [
    "data = load_data()"
   ]
  }
 ],
 "metadata": {
  "kernelspec": {
   "display_name": "Python 3.8.15 ('py38belajarpt')",
   "language": "python",
   "name": "python3"
  },
  "language_info": {
   "codemirror_mode": {
    "name": "ipython",
    "version": 3
   },
   "file_extension": ".py",
   "mimetype": "text/x-python",
   "name": "python",
   "nbconvert_exporter": "python",
   "pygments_lexer": "ipython3",
   "version": "3.8.15"
  },
  "orig_nbformat": 4,
  "vscode": {
   "interpreter": {
    "hash": "70e73a41c653c3ff2c4eb4196dfcfae1e64ffcb4fa97f2ff95a868530ad91676"
   }
  }
 },
 "nbformat": 4,
 "nbformat_minor": 2
}
